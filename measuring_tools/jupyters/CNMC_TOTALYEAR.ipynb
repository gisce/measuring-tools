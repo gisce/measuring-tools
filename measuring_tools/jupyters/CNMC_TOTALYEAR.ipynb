{
 "cells": [
  {
   "cell_type": "markdown",
   "metadata": {},
   "source": [
    "# Com utilitzar això\n",
    "\n",
    "## Canviar les variables\n",
    "`comer = 'LERSA'`\n",
    "`PATH = '/home/puig/Fitxers de Medidas/CNMC_TOTALYEAR/{comer}/'.format(comer=comer)`\n",
    "\n",
    "# Crear els següents directoris dins CNMC_TOTALYEAR\n",
    "- CLMAGS\n",
    "- CLMAG5AS\n",
    "- F1S\n"
   ]
  },
  {
   "cell_type": "markdown",
   "metadata": {},
   "source": [
    "# Validador Hores"
   ]
  },
  {
   "cell_type": "code",
   "execution_count": 390,
   "metadata": {},
   "outputs": [],
   "source": [
    "# Validador\n",
    "def val(n_hours, df, ):\n",
    "    for tarifa in ('21', '2A'):\n",
    "        if len(df[(df.agree_tarifa == tarifa) & (df.agree_dh == 'E1')]) != n_hours:\n",
    "            print('Tarifa no te totes les hores: {}'.format(tarifa))\n",
    "        if len(df[(df.agree_tarifa == tarifa) & (df.agree_dh == 'E2')]) != n_hours:\n",
    "            print('Tarifa no te totes les hores: {}'.format(tarifa))\n",
    "    print 'Ha acabat validacio'\n",
    "\n",
    "def val_clmag5a(n_hours, df_tmp):\n",
    "    tarifa = list(set(df_tmp.agree_tarifa))[0]\n",
    "    if tarifa == '2.0 DHS':\n",
    "        msg = ('Ha acabat validacio {}'.format(tarifa))\n",
    "        print msg\n",
    "        return True\n",
    "    if len(df_tmp) != n_hours:\n",
    "        msg = ('Tarifa {} no te totes les hores df: {} vs {}!!!!'.format(tarifa, len(df_tmp), n_hours)) \n",
    "        print msg\n",
    "        return False\n",
    "    else:\n",
    "        msg = ('Ha acabat validacio {}'.format(tarifa))\n",
    "        print msg\n",
    "        return True\n",
    "\n",
    "def val_f1(n_hours, df_tmp):\n",
    "    if len(df_tmp) != n_hours:\n",
    "        msg = ('Tarifa 61 no te totes les hores df: {} vs {}!!!!'.format(len(df_tmp), n_hours)) \n",
    "        print msg\n",
    "        return False\n",
    "    else:\n",
    "        msg = ('Ha acabat validacio {}'.format('61'))\n",
    "        print msg\n",
    "        return True\n",
    "    \n",
    "def val_clmag(n_hours, df):\n",
    "    for tarifa in ('3.0', ):\n",
    "        if len(df[(df.agree_tarifa == tarifa) & (df.dh == 'E3')]) != n_hours:\n",
    "            print('Tarifa no te totes les hores: {}'.format(tarifa))\n",
    "    print 'Ha acabat validacio'"
   ]
  },
  {
   "cell_type": "code",
   "execution_count": 397,
   "metadata": {},
   "outputs": [],
   "source": [
    "comer = 'LERSA'\n",
    "PATH = '/home/puig/Fitxers de Medidas/CNMC_TOTALYEAR/{comer}/'.format(comer=comer)"
   ]
  },
  {
   "cell_type": "markdown",
   "metadata": {},
   "source": [
    "## Escriure fitxers"
   ]
  },
  {
   "cell_type": "code",
   "execution_count": 396,
   "metadata": {},
   "outputs": [],
   "source": [
    "def write_excel(data_f, name_sheet):\n",
    "    from openpyxl import load_workbook\n",
    "    filename = '{}result/{}.xlsx'.format(PATH, 'TOTAL')\n",
    "    try:\n",
    "        book = load_workbook(filename)\n",
    "    except Exception:\n",
    "        writer = pd.ExcelWriter(filename, engine='openpyxl')\n",
    "        data_f.to_excel(writer, name_sheet, index=False, columns=['agree_tarifa', 'timestamp', 'measure'])\n",
    "        writer.save()\n",
    "        return True\n",
    "        \n",
    "    writer = pd.ExcelWriter(filename, engine='openpyxl') \n",
    "    writer.book = book\n",
    "    writer.sheets = dict((ws.title, ws) for ws in book.worksheets)\n",
    "    data_f.to_excel(writer, name_sheet, index=False, columns=['agree_tarifa', 'timestamp', 'measure'])\n",
    "\n",
    "    writer.save()\n",
    "    return True"
   ]
  },
  {
   "cell_type": "markdown",
   "metadata": {},
   "source": [
    "# CLMAG5A"
   ]
  },
  {
   "cell_type": "code",
   "execution_count": 393,
   "metadata": {},
   "outputs": [
    {
     "name": "stdout",
     "output_type": "stream",
     "text": [
      "IMPORTANT DADES CLMAG5A\n",
      "Reading... /home/puig/Fitxers de Medidas/CNMC_TOTALYEAR/LERSA/CLMAG5AS/CLMAG5A_0336_201808_20180917.1\n",
      "Reading... /home/puig/Fitxers de Medidas/CNMC_TOTALYEAR/LERSA/CLMAG5AS/CLMAG5A_0336_201805_20180713.1\n",
      "Reading... /home/puig/Fitxers de Medidas/CNMC_TOTALYEAR/LERSA/CLMAG5AS/CLMAG5A_0336_201807_20180917.1\n",
      "Reading... /home/puig/Fitxers de Medidas/CNMC_TOTALYEAR/LERSA/CLMAG5AS/CLMAG5A_0336_201804_20180530.1\n",
      "Reading... /home/puig/Fitxers de Medidas/CNMC_TOTALYEAR/LERSA/CLMAG5AS/CLMAG5A_0336_201810_20181130.1\n",
      "Reading... /home/puig/Fitxers de Medidas/CNMC_TOTALYEAR/LERSA/CLMAG5AS/CLMAG5A_0336_201809_20181119.1\n",
      "Reading... /home/puig/Fitxers de Medidas/CNMC_TOTALYEAR/LERSA/CLMAG5AS/CLMAG5A_0336_201801_20180313.1\n",
      "Reading... /home/puig/Fitxers de Medidas/CNMC_TOTALYEAR/LERSA/CLMAG5AS/CLMAG5A_0336_201806_20180713.1\n",
      "Reading... /home/puig/Fitxers de Medidas/CNMC_TOTALYEAR/LERSA/CLMAG5AS/CLMAG5A_0336_201812_20190218.1\n",
      "Reading... /home/puig/Fitxers de Medidas/CNMC_TOTALYEAR/LERSA/CLMAG5AS/CLMAG5A_0336_201802_20180313.1\n",
      "Reading... /home/puig/Fitxers de Medidas/CNMC_TOTALYEAR/LERSA/CLMAG5AS/CLMAG5A_0336_201803_20180508.1\n",
      "Reading... /home/puig/Fitxers de Medidas/CNMC_TOTALYEAR/LERSA/CLMAG5AS/CLMAG5A_0336_201811_20190116.1\n",
      "Ha acabat validacio 2.0 DHS\n",
      "Ha acabat validacio 2.0 DHA\n",
      "Ha acabat validacio 2.1 DHA\n",
      "Ha acabat validacio 2.0 A\n",
      "Ha acabat validacio 2.1 A\n"
     ]
    }
   ],
   "source": [
    "from parsers import parser\n",
    "from skeleton_files import cols\n",
    "from comparative_tools import check_clmag5as, totalizer\n",
    "import os\n",
    "import pandas as pd\n",
    "\n",
    "# Llegim els CLMAG5AS\n",
    "df = pd.DataFrame(data={})\n",
    "base_path = '{}{}/'.format(PATH, 'CLMAG5AS')\n",
    "if len(os.listdir(base_path)) != 12:\n",
    "    print('FALTEN MESOS!')\n",
    "print('IMPORTANT DADES CLMAG5A')\n",
    "\n",
    "for _file in os.listdir(base_path):\n",
    "    path_clmag5a = base_path + _file\n",
    "    print('Reading... {}'.format(path_clmag5a))\n",
    "    df_tmp = parser.read_CLMAG5A(path_clmag5a)\n",
    "    if df.empty:\n",
    "        df = df_tmp\n",
    "    else:\n",
    "        df = df.append(df_tmp)\n",
    "\n",
    "# AGRUPEM PER TARIFA\n",
    "df_2tariff = df.groupby(['agree_tarifa', 'agree_dh', 'timestamp', 'estacio']).aggregate({'measure': 'sum'}).reset_index()\n",
    "df_2tariff.sort_values(['timestamp', 'agree_tarifa'])\n",
    "\n",
    "# Escrivim els fitxers, un per tarifa\n",
    "df_2tariff = df_2tariff.replace('21', '2.1')\n",
    "df_2tariff = df_2tariff.replace('2A', '2.0')\n",
    "df_2tariff = df_2tariff.replace('30', '3.0')\n",
    "df_2tariff = df_2tariff.replace('31', '3.1')\n",
    "df_2tariff['agree_tarifa'] = np.where(\n",
    "    (df_2tariff['agree_dh'] == 'E2'), df_2tariff['agree_tarifa'] + ' DHA', df_2tariff['agree_tarifa']\n",
    ")\n",
    "df_2tariff['agree_tarifa'] = np.where(\n",
    "    (df_2tariff['agree_dh'] == 'E3'), df_2tariff['agree_tarifa'] + ' DHS', df_2tariff['agree_tarifa']\n",
    ")\n",
    "df_2tariff['agree_tarifa'] = np.where(\n",
    "    (df_2tariff['agree_dh'] == 'E1'), df_2tariff['agree_tarifa'] + ' A', df_2tariff['agree_tarifa']\n",
    ")\n",
    "\n",
    "tariffs = list(set(df_2tariff.agree_tarifa))\n",
    "for tariff in tariffs:\n",
    "    df_tariff = df_2tariff[df_2tariff.agree_tarifa == tariff]\n",
    "    if val_clmag5a(8760, df_tariff):\n",
    "        write_excel(df_tariff, str(tariff))\n",
    "        df_tariff.to_csv('{}result/{}.csv'.format(PATH, tariff), columns=['timestamp', 'measure', 'agree_tarifa'], sep=';', index=None)"
   ]
  },
  {
   "cell_type": "markdown",
   "metadata": {},
   "source": [
    "# CLMAG"
   ]
  },
  {
   "cell_type": "code",
   "execution_count": 394,
   "metadata": {},
   "outputs": [
    {
     "name": "stdout",
     "output_type": "stream",
     "text": [
      "Reading... /home/puig/Fitxers de Medidas/CNMC_TOTALYEAR/LERSA/CLMAGS/CLMAG_0336_201806_20180713.1\n",
      "Reading... /home/puig/Fitxers de Medidas/CNMC_TOTALYEAR/LERSA/CLMAGS/CLMAG_0336_201807_20180917.1\n",
      "Reading... /home/puig/Fitxers de Medidas/CNMC_TOTALYEAR/LERSA/CLMAGS/CLMAG_0336_201811_20190115.1\n",
      "Reading... /home/puig/Fitxers de Medidas/CNMC_TOTALYEAR/LERSA/CLMAGS/CLMAG_0336_201810_20181130.1\n",
      "Reading... /home/puig/Fitxers de Medidas/CNMC_TOTALYEAR/LERSA/CLMAGS/CLMAG_0336_201802_20180313.1\n",
      "Reading... /home/puig/Fitxers de Medidas/CNMC_TOTALYEAR/LERSA/CLMAGS/CLMAG_0336_201812_20190218.1\n",
      "Reading... /home/puig/Fitxers de Medidas/CNMC_TOTALYEAR/LERSA/CLMAGS/CLMAG_0336_201803_20180508.1\n",
      "Reading... /home/puig/Fitxers de Medidas/CNMC_TOTALYEAR/LERSA/CLMAGS/CLMAG_0336_201804_20180530.1\n",
      "Reading... /home/puig/Fitxers de Medidas/CNMC_TOTALYEAR/LERSA/CLMAGS/CLMAG_0336_201809_20181119.1\n",
      "Reading... /home/puig/Fitxers de Medidas/CNMC_TOTALYEAR/LERSA/CLMAGS/CLMAG_0336_201801_20180313.1\n",
      "Reading... /home/puig/Fitxers de Medidas/CNMC_TOTALYEAR/LERSA/CLMAGS/CLMAG_0336_201808_20180917.1\n",
      "Reading... /home/puig/Fitxers de Medidas/CNMC_TOTALYEAR/LERSA/CLMAGS/CLMAG_0336_201805_20180713.1\n",
      "Ha acabat validacio\n"
     ]
    }
   ],
   "source": [
    "def read_CLMAG(path):\n",
    "    #positions = [x for x in xrange(11, 107, 4)]\n",
    "    positions = [x for x in xrange(11, 110, 4)]\n",
    "    hours_map = {\n",
    "        11: '01', 15: '02', 19: '03', 23: '04', 27: '05', 31: '06', 35: '07', 39: '08', 43: '09', 47: '10', \n",
    "        51: '11', 55: '12', 59: '13', 63: '14', 67: '15', 71: '16', 75: '17', 79: '18', 83: '19', 87: '20', \n",
    "        91: '21', 95: '22', 99: '23', 103: '24', 107: '25'\n",
    "    }\n",
    "    R1_code = ';R1;'\n",
    "    consumptions_clmag = []\n",
    "\n",
    "    lines = []\n",
    "    with open(path, 'r') as filename:\n",
    "        for line in filename:\n",
    "            lines.append(str(line))\n",
    "    clmag_aggs = [agg[11:35] for agg in lines]\n",
    "    df_aggs = pd.DataFrame(data=clmag_aggs).drop_duplicates()\n",
    "    clmag_aggs = [x[0] for x in df_aggs.values.tolist()]\n",
    "    aggregation_dict = dict.fromkeys(cols.CLMAG_COLS)\n",
    "    report_map = {}\n",
    "    for x in lines:\n",
    "        if R1_code not in x:\n",
    "            # Get aggregation and date\n",
    "            timestamp_base = '/'.join([x[6:10], x[3:5], x[:2]])\n",
    "            consumption_tmp = x.split(';')\n",
    "            aggregation = x[11:35]\n",
    "            \n",
    "            # Initialize set\n",
    "            if aggregation not in report_map:\n",
    "                report_map[aggregation] = []\n",
    "\n",
    "            # Set timestamp-measure\n",
    "            for pos in positions:\n",
    "                timestamp = '{} {}:00'.format(timestamp_base, hours_map[pos])\n",
    "                if timestamp.find(\" 25:00\") != -1 and timestamp != \"2018/10/28 25:00\":\n",
    "                    continue\n",
    "                report_map[aggregation].append({'timestamp': timestamp, 'measure': int(consumption_tmp[pos])})\n",
    "    return report_map\n",
    "\n",
    "\n",
    "# Llegim els CLMAGS\n",
    "df = pd.DataFrame(data={})\n",
    "base_path = '{}{}/'.format(PATH, 'CLMAGS')\n",
    "for _file in os.listdir(base_path):\n",
    "    path_clmag = base_path + _file\n",
    "    print('Reading... {}'.format(path_clmag))\n",
    "    \n",
    "    rp = read_CLMAG(path_clmag)\n",
    "    data = []\n",
    "    for k, v in rp.iteritems():\n",
    "        aggregation = dict(zip(['distri', 'comer', 'provincia', 'tensio', 'agree_tarifa', 'dh', 'tipo'], tuple(k.split(';'))))\n",
    "        for s in v:\n",
    "            _agg = aggregation.copy()\n",
    "            _agg['timestamp'] = s['timestamp']\n",
    "            _agg['measure'] = s['measure']\n",
    "            data.append(_agg)\n",
    "    df_tmp = pd.DataFrame(data=data)\n",
    "    if df.empty:\n",
    "        df = df_tmp\n",
    "    else:\n",
    "        df = df.append(df_tmp)\n",
    "df_2tariff = df.groupby(['agree_tarifa', 'dh', 'timestamp']).aggregate({'measure': 'sum'}).reset_index()\n",
    "df_2tariff.sort_values(['timestamp', 'agree_tarifa'])\n",
    "\n",
    "# Drop hour change march hour\n",
    "df_2tariff = df_2tariff.drop(df_2tariff[df_2tariff.timestamp == '2018/03/25 03:00'].index)\n",
    "df_2tariff = df_2tariff.sort_values(['timestamp'])\n",
    "\n",
    "# Escrivim els fitxers, un per tarifa\n",
    "df_2tariff = df_2tariff.replace('30', '3.0')\n",
    "df_2tariff = df_2tariff.replace('31', '3.1')\n",
    "df_2tariff['agree_tarifa'] = np.where(\n",
    "    ((df_2tariff['agree_tarifa'] == '3.1') & (df_2tariff['dh'] != 'E3')), df_2tariff['agree_tarifa'] + ' ESPECIAL', df_2tariff['agree_tarifa']\n",
    ")\n",
    "\n",
    "tariffs = list(set(df_2tariff.agree_tarifa))\n",
    "for tariff in tariffs:\n",
    "    df_tariff = df_2tariff[df_2tariff.agree_tarifa == tariff]\n",
    "    # Write file\n",
    "    df_tariff.to_csv('{}result/{}.csv'.format(PATH, '301'), columns=['timestamp', 'measure'], sep=';', index=None)\n",
    "    val_clmag(8760, df_tariff)\n",
    "    write_excel(df_tariff, tariff)"
   ]
  },
  {
   "cell_type": "markdown",
   "metadata": {},
   "source": [
    "# F1"
   ]
  },
  {
   "cell_type": "code",
   "execution_count": 395,
   "metadata": {},
   "outputs": [
    {
     "name": "stdout",
     "output_type": "stream",
     "text": [
      "Ha acabat validacio 61\n"
     ]
    },
    {
     "data": {
      "text/plain": [
       "True"
      ]
     },
     "execution_count": 395,
     "metadata": {},
     "output_type": "execute_result"
    }
   ],
   "source": [
    "df = pd.DataFrame(data={})\n",
    "base_path = '{}{}/'.format(PATH, 'F1S')\n",
    "for _file in os.listdir(base_path):\n",
    "    path_f1 = base_path + _file\n",
    "    df_tmp = parser.read_F1(path_f1)\n",
    "    if df.empty:\n",
    "        df = df_tmp\n",
    "    else:\n",
    "        df = df.append(df_tmp)\n",
    "        \n",
    "df_2tariff = df.groupby(['timestamp', 'estacio']).aggregate({'measure': 'sum'}).reset_index()\n",
    "df_2tariff['agree_tarifa'] = '61'\n",
    "df_2tariff = df_2tariff.sort_values(['timestamp'])\n",
    "if val_f1(8760, df_2tariff):\n",
    "    df_2tariff.to_csv('{}result/{}.csv'.format(PATH, '61'), columns=['timestamp', 'measure'], sep=';', index=None)\n",
    "write_excel(df_2tariff, '61')"
   ]
  },
  {
   "cell_type": "markdown",
   "metadata": {},
   "source": [
    "## Our data"
   ]
  },
  {
   "cell_type": "code",
   "execution_count": null,
   "metadata": {},
   "outputs": [],
   "source": []
  },
  {
   "cell_type": "code",
   "execution_count": null,
   "metadata": {},
   "outputs": [],
   "source": [
    "# Té 2kWh en tot l'any de DHS\n",
    "df_test = df.groupby(['agree_tarifa', 'agree_dh', 'estacio', 'timestamp']).aggregate({'measure': 'sum'}).reset_index()\n",
    "df_test[(df_test['agree_tarifa'] == '2A') & (df_test['agree_dh'] == 'E3')].groupby(['agree_tarifa']).aggregate({'measure': 'sum'})\n"
   ]
  },
  {
   "cell_type": "code",
   "execution_count": null,
   "metadata": {},
   "outputs": [],
   "source": []
  },
  {
   "cell_type": "code",
   "execution_count": null,
   "metadata": {},
   "outputs": [],
   "source": []
  },
  {
   "cell_type": "code",
   "execution_count": null,
   "metadata": {},
   "outputs": [],
   "source": []
  }
 ],
 "metadata": {
  "kernelspec": {
   "display_name": "Python 2",
   "language": "python",
   "name": "python2"
  },
  "language_info": {
   "codemirror_mode": {
    "name": "ipython",
    "version": 2
   },
   "file_extension": ".py",
   "mimetype": "text/x-python",
   "name": "python",
   "nbconvert_exporter": "python",
   "pygments_lexer": "ipython2",
   "version": "2.7.12"
  }
 },
 "nbformat": 4,
 "nbformat_minor": 2
}
