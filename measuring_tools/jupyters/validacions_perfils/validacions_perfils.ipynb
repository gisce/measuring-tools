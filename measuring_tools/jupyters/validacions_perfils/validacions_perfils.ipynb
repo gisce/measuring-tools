{
 "cells": [
  {
   "cell_type": "markdown",
   "metadata": {},
   "source": [
    "# Validacions perfils"
   ]
  },
  {
   "cell_type": "markdown",
   "metadata": {},
   "source": [
    "## Validem total perfils generats vs total perfils esperats\n",
    "\n",
    "### Excpected\n",
    "\n",
    "```\n",
    "select 92*24*count(distinct cups_id) from giscedata_facturacio_factura f, account_invoice i where f.invoice_id = i.id and i.type like 'in_invoice%'  and  data_inici <= '2017-10-31' and data_final \n",
    ">= '2017-08-01';\n",
    "```\n",
    "\n",
    "### Total\n",
    "```\n",
    "db.giscedata_profiles_profile.count()\n",
    "```\n",
    "\n",
    "> 36266588\n",
    "\n",
    "## Per mes\n",
    "```\n",
    "db.giscedata_profiles_profile.count({\"timestamp\": {\"$gte\": ISODate(\"2017-08-01T01:00:00Z\"), \"$lte\": ISODate(\"2017-09-01T00:00:00Z\")}})\n",
    "```\n",
    "\n",
    "> 10988976\n",
    "\n",
    "```\n",
    "select 31*24*count(distinct cups_id) from giscedata_facturacio_factura f, account_invoice i where f.invoice_id = i.id and i.type like 'in_invoice%'  and  data_inici <= '2017-08-31' and data_final >= '2017-08-01';\n",
    "```\n",
    "\n",
    "> 11108664\n"
   ]
  },
  {
   "cell_type": "markdown",
   "metadata": {},
   "source": [
    "# Validem energia perfilada total vs energia facturada total\n",
    "\n",
    "## facturada\n",
    "```\n",
    "select sum(f.energia_kwh) from giscedata_facturacio_factura f, account_invoice i where f.invoice_id = i.id and i.type like 'in_invoice%'  and  data_inici <= '2017-10-31' and data_final >= '2017-08-01';\n",
    "```\n",
    "\n",
    "> 34910330\n",
    "\n",
    "## perfilada\n",
    "```\n",
    "db.giscedata_profiles_profile.aggregate( [ { $group: { _id: '', energy: { $sum: \"$lectura\" }}}] )\n",
    "```\n",
    "\n",
    "> 33680019"
   ]
  }
 ],
 "metadata": {
  "kernelspec": {
   "display_name": "Python 2",
   "language": "python",
   "name": "python2"
  },
  "language_info": {
   "codemirror_mode": {
    "name": "ipython",
    "version": 2
   },
   "file_extension": ".py",
   "mimetype": "text/x-python",
   "name": "python",
   "nbconvert_exporter": "python",
   "pygments_lexer": "ipython2",
   "version": "2.7.12"
  }
 },
 "nbformat": 4,
 "nbformat_minor": 2
}
