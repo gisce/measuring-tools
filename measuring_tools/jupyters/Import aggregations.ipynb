{
 "cells": [
  {
   "cell_type": "code",
   "execution_count": 5,
   "metadata": {},
   "outputs": [],
   "source": [
    "import os\n",
    "import csv\n",
    "os.listdir('/home/puig/Fitxers de Medidas/AGCL/AGCL OS/Original')\n",
    "_file_agcl = '/home/puig/Fitxers de Medidas/AGCL/AGCL OS/Original/AGCL_0034_P1_201802.2'"
   ]
  },
  {
   "cell_type": "code",
   "execution_count": 20,
   "metadata": {},
   "outputs": [
    {
     "name": "stdout",
     "output_type": "stream",
     "text": [
      "Deleting...\n"
     ]
    }
   ],
   "source": [
    "from erppeek import Client\n",
    "c = Client(server='http://ecasa-erp.clients:9999',db='ecasa_distri', user='gisce')\n",
    "aggr_obj = c.model('giscedata.profiles.aggregations')\n",
    "\n",
    "# Preventive delete\n",
    "_batch_id = 2\n",
    "\n",
    "aggr_ids = aggr_obj.search([('lot_id', '=', _batch_id)])\n",
    "if aggr_ids:\n",
    "    print 'Deleting...'\n",
    "    aggr_obj.browse(aggr_ids).unlink()\n",
    "\n",
    "\n",
    "with open(_file_agcl, 'rb') as csvfile:\n",
    "    spamreader = csv.reader(csvfile, delimiter=';')\n",
    "    keys = ['distribuidora', 'comercialitzadora', 'agree_tensio', 'agree_tarifa', 'agree_dh', 'agree_tipo', 'provincia', 'data_inici_ag', 'data_final_ag']\n",
    "    for row in spamreader:\n",
    "        vals = dict(zip(keys,row))\n",
    "        vals['lot_id'] = _batch_id\n",
    "        vals['data_inici'] = '2018-01-01'\n",
    "        vals['data_final'] = '2018-01-31'\n",
    "        vals['magnitud'] = 'AE'\n",
    "        vals['agree_tipo'] = str(vals['agree_tipo']).zfill(2)\n",
    "\n",
    "        if vals['data_final_ag'] == '3000/01/01 00':\n",
    "            del vals['data_final_ag']\n",
    "        else:\n",
    "            _year, _month, _day = vals['data_final_ag'].split('/')\n",
    "            _day = day.split(' ')[0]\n",
    "            vals['data_final_ag'] = '{}-{}-{}'.format(_year, _month, _day)\n",
    "        year, month, day = vals['data_inici_ag'].split('/')\n",
    "        day = day.split(' ')[0]\n",
    "        vals['data_inici_ag'] = '{}-{}-{}'.format(year, month, day)\n",
    "        #print vals\n",
    "        aggr_obj.create(vals)"
   ]
  },
  {
   "cell_type": "code",
   "execution_count": 4,
   "metadata": {},
   "outputs": [
    {
     "data": {
      "text/plain": [
       "['agree_dh',\n",
       " 'agree_tarifa',\n",
       " 'agree_tensio',\n",
       " 'agree_tipo',\n",
       " 'comercialitzadora',\n",
       " 'consum',\n",
       " 'data_final',\n",
       " 'data_final_ag',\n",
       " 'data_inici',\n",
       " 'data_inici_ag',\n",
       " 'distribuidora',\n",
       " 'lot_id',\n",
       " 'magnitud',\n",
       " 'provincia']"
      ]
     },
     "execution_count": 4,
     "metadata": {},
     "output_type": "execute_result"
    }
   ],
   "source": [
    "c.model('giscedata.profiles.aggregations').keys()"
   ]
  }
 ],
 "metadata": {
  "kernelspec": {
   "display_name": "Python 2",
   "language": "python",
   "name": "python2"
  },
  "language_info": {
   "codemirror_mode": {
    "name": "ipython",
    "version": 2
   },
   "file_extension": ".py",
   "mimetype": "text/x-python",
   "name": "python",
   "nbconvert_exporter": "python",
   "pygments_lexer": "ipython2",
   "version": "2.7.12"
  }
 },
 "nbformat": 4,
 "nbformat_minor": 2
}
